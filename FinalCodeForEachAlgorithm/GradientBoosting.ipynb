{
 "cells": [
  {
   "cell_type": "code",
   "execution_count": 1,
   "id": "cf15359a",
   "metadata": {},
   "outputs": [],
   "source": [
    "import pandas as pd\n",
    "import numpy as np\n",
    "import matplotlib.pyplot as plt\n",
    "import seaborn as sns\n",
    "import sys\n",
    "from numpy import mean\n",
    "from numpy import std\n",
    "from sklearn.ensemble import GradientBoostingClassifier\n",
    "from sklearn.model_selection import train_test_split\n",
    "from sklearn.model_selection import GridSearchCV\n",
    "from sklearn.model_selection import RepeatedStratifiedKFold\n",
    "from sklearn.model_selection import RepeatedKFold\n",
    "from sklearn.model_selection import cross_val_score\n",
    "from yellowbrick.model_selection import validation_curve \n",
    "from sklearn import metrics\n",
    "from sklearn.metrics import roc_curve\n",
    "from sklearn.metrics import accuracy_score\n",
    "from sklearn.metrics import roc_auc_score\n",
    "from sklearn.metrics import confusion_matrix\n",
    "from sklearn.metrics import classification_report\n",
    "from warnings import simplefilter\n",
    "from sklearn.exceptions import ConvergenceWarning\n",
    "simplefilter(\"ignore\", category=ConvergenceWarning)\n",
    "from warnings import filterwarnings\n",
    "filterwarnings('ignore')"
   ]
  },
  {
   "cell_type": "code",
   "execution_count": 2,
   "id": "77290d51",
   "metadata": {},
   "outputs": [],
   "source": [
    "data=pd.read_csv(\"wineQuality_processed.csv\")\n",
    "data_temp=data\n",
    "X=data.drop(['quality'],axis=1)\n",
    "y=data['quality']\n",
    "X_train, X_test, y_train, y_test = train_test_split(X, y, test_size=0.25, random_state=30)\n",
    "X_train_33, X_test_33, y_train_33, y_test_33 = train_test_split(X, y, test_size=0.33, random_state=30)\n",
    "X_train_20, X_test_20, y_train_20, y_test_20 = train_test_split(X, y, test_size=0.20, random_state=30)"
   ]
  },
  {
   "cell_type": "code",
   "execution_count": 3,
   "id": "8dc3e19e",
   "metadata": {},
   "outputs": [],
   "source": [
    "#Function to get the test report for each model\n",
    "def test_report(model,test_size):\n",
    "    if test_size==0.25:\n",
    "        prediction=model.predict(X_test)\n",
    "        return(classification_report(y_test,prediction))\n",
    "    if test_size==0.20:\n",
    "        prediction=model.predict(X_test_20)\n",
    "        return(classification_report(y_test_20,prediction))\n",
    "    if test_size==0.33:\n",
    "        prediction=model.predict(X_test_33)\n",
    "        return(classification_report(y_test_33,prediction))\n",
    "def train_report(model,test_size):\n",
    "    if test_size==0.25:\n",
    "        prediction=model.predict(X_train)\n",
    "        return(classification_report(y_train,prediction))\n",
    "    if test_size==0.20:\n",
    "        prediction=model.predict(X_train_20)\n",
    "        return(classification_report(y_train_20,prediction))\n",
    "    if test_size==0.33:\n",
    "        prediction=model.predict(X_train_33)\n",
    "        return(classification_report(y_train_33,prediction))\n",
    "#Function to get the f1-score,precision\n",
    "def f_p_r(model,test_size,name):\n",
    "    global reps\n",
    "    if test_size==0.20:\n",
    "        predicts_20=model.predict(X_test_20)\n",
    "        reps=classification_report(y_test_20,predicts_20,output_dict=True)\n",
    "        f1=reps['macro avg']['f1-score']\n",
    "        precs=reps['macro avg']['precision']\n",
    "        recal=reps['macro avg']['recall']\n",
    "        print(\"With test_size=0.20 for \",name,\" Recall:\",recal)\n",
    "        print(\"With test_size=0.20 for \",name,\" f1 score:\",f1)\n",
    "        print(\"With test_size=0.20 for \",name,\" precision:\",precs)\n",
    "    if test_size==0.25:\n",
    "        predicts=model.predict(X_test)\n",
    "        reps=classification_report(y_test,predicts,output_dict=True)\n",
    "        f1=reps['macro avg']['f1-score']\n",
    "        precs=reps['macro avg']['precision']\n",
    "        recal=reps['macro avg']['recall']\n",
    "        print(\"With test_size=0.25 for \",name,\" Recall:\",recal)\n",
    "        print(\"With test_size=0.25 for \",name,\" f1 score:\",f1)\n",
    "        print(\"With test_size=0.25 for \",name,\" precision:\",precs)\n",
    "    if test_size==0.33:\n",
    "        predicts_33=model.predict(X_test_33)\n",
    "        reps=classification_report(y_test_33,predicts_33,output_dict=True)\n",
    "        f1=reps['macro avg']['f1-score']\n",
    "        precs=reps['macro avg']['precision']\n",
    "        recal=reps['macro avg']['recall']\n",
    "        print(\"With test_size=0.33 for \",name,\" Recall:\",recal)\n",
    "        print(\"With test_size=0.33 for \",name,\" f1 score:\",f1)\n",
    "        print(\"With test_size=0.33 for \",name,\" precision:\",precs)\n",
    "#Function to get the confusion matrix\n",
    "def confuse_mat(model,test_size):\n",
    "    if test_size==0.20:\n",
    "        prediction=model.predict(X_test_20)\n",
    "        conmat=confusion_matrix(y_test_20,prediction)\n",
    "        cf_matrix=pd.DataFrame(data=conmat,columns=['Predicted:0','Predicted:1'],index=['Actual:0','Actual:1'])\n",
    "        sns.heatmap(cf_matrix, annot=True,fmt='d')\n",
    "        plt.xticks(fontsize=10)\n",
    "        plt.yticks(fontsize=10)\n",
    "        plt.show()\n",
    "    if test_size==0.25:\n",
    "        prediction=model.predict(X_test)\n",
    "        conmat=confusion_matrix(y_test,prediction)\n",
    "        cf_matrix=pd.DataFrame(data=conmat,columns=['Predicted:0','Predicted:1'],index=['Actual:0','Actual:1'])\n",
    "        sns.heatmap(cf_matrix, annot=True,fmt='d')\n",
    "        plt.xticks(fontsize=10)\n",
    "        plt.yticks(fontsize=10)\n",
    "        plt.show()\n",
    "    if test_size==0.33:\n",
    "        prediction=model.predict(X_test_33)\n",
    "        conmat=confusion_matrix(y_test_33,prediction)\n",
    "        cf_matrix=pd.DataFrame(data=conmat,columns=['Predicted:0','Predicted:1'],index=['Actual:0','Actual:1'])\n",
    "        sns.heatmap(cf_matrix, annot=True,fmt='d')\n",
    "        plt.xticks(fontsize=10)\n",
    "        plt.yticks(fontsize=10)\n",
    "        plt.show()\n",
    "#Function to plot the R0C curve\n",
    "def roc_auc(model,name,test_size):\n",
    "    if test_size==0.20:\n",
    "        ns_probs = [0 for _ in range(len(y_test_20))]\n",
    "        prediction_probs_20=model.predict_proba(X_test_20)\n",
    "        prediction_probs_20 = prediction_probs_20[:, 1]\n",
    "        ns_auc = roc_auc_score(y_test_20, ns_probs)\n",
    "        lr_auc=roc_auc_score(y_test_20,prediction_probs_20)\n",
    "        ns_fpr, ns_tpr, _ = roc_curve(y_test_20, ns_probs)\n",
    "        fpr,tpr,thresholds=roc_curve(y_test_20,prediction_probs_20)\n",
    "        plt.plot(ns_fpr, ns_tpr,linestyle='--',label='No Skill')\n",
    "        plt.plot(fpr,tpr,marker='.',label=name)\n",
    "        plt.xlim([0.0,1.0])\n",
    "        plt.ylim([0.0,1.0])\n",
    "        plt.title('ROC curve ', fontsize = 10)\n",
    "        plt.xlabel('False Positive Rate',fontsize = 10)\n",
    "        plt.ylabel('True Positive Rate',fontsize = 10)\n",
    "        plt.show()\n",
    "        print('No Skill: ROC AUC=%.3f' % (ns_auc))\n",
    "        print(name,': ROC AUC=%.3f' % (lr_auc))\n",
    "    if test_size==0.25:\n",
    "        ns_probs = [0 for _ in range(len(y_test))]\n",
    "        prediction_probs=model.predict_proba(X_test)\n",
    "        prediction_probs = prediction_probs[:, 1]\n",
    "        ns_auc = roc_auc_score(y_test, ns_probs)\n",
    "        lr_auc=roc_auc_score(y_test,prediction_probs)\n",
    "        ns_fpr, ns_tpr, _ = roc_curve(y_test, ns_probs)\n",
    "        fpr,tpr,thresholds=roc_curve(y_test,prediction_probs)\n",
    "        plt.plot(ns_fpr, ns_tpr,linestyle='--',label='No Skill')\n",
    "        plt.plot(fpr,tpr,marker='.',label=name)\n",
    "        plt.xlim([0.0,1.0])\n",
    "        plt.ylim([0.0,1.0])\n",
    "        plt.title('ROC curve ', fontsize = 10)\n",
    "        plt.xlabel('False Positive Rate',fontsize = 10)\n",
    "        plt.ylabel('True Positive Rate',fontsize = 10)\n",
    "        plt.show()\n",
    "        print('No Skill: ROC AUC=%.3f' % (ns_auc))\n",
    "        print(name,': ROC AUC=%.3f' % (lr_auc))\n",
    "    if test_size==0.33:\n",
    "        ns_probs = [0 for _ in range(len(y_test_33))]\n",
    "        prediction_probs_33=model.predict_proba(X_test_33)\n",
    "        prediction_probs_33 = prediction_probs_33[:, 1]\n",
    "        ns_auc = roc_auc_score(y_test_33, ns_probs)\n",
    "        lr_auc=roc_auc_score(y_test_33,prediction_probs_33)\n",
    "        ns_fpr, ns_tpr, _ = roc_curve(y_test_33, ns_probs)\n",
    "        fpr,tpr,thresholds=roc_curve(y_test_33,prediction_probs_33)\n",
    "        plt.plot(ns_fpr, ns_tpr,linestyle='--',label='No Skill')\n",
    "        plt.plot(fpr,tpr,marker='.',label=name)\n",
    "        plt.xlim([0.0,1.0])\n",
    "        plt.ylim([0.0,1.0])\n",
    "        plt.title('ROC curve ', fontsize = 10)\n",
    "        plt.xlabel('False Positive Rate',fontsize = 10)\n",
    "        plt.ylabel('True Positive Rate',fontsize = 10)\n",
    "        plt.show()\n",
    "        print('No Skill: ROC AUC=%.3f' % (ns_auc))\n",
    "        print(name,': ROC AUC=%.3f' % (lr_auc))"
   ]
  },
  {
   "cell_type": "code",
   "execution_count": 4,
   "id": "55dd126b",
   "metadata": {},
   "outputs": [
    {
     "name": "stdout",
     "output_type": "stream",
     "text": [
      "GB Model working with test size=0.20\n",
      "-------------------------------------------\n",
      "     learning_rate  max_depth  min_samples_leaf  min_samples_split  \\\n",
      "0              0.3          2                 4                  4   \n",
      "1              0.3          2                 4                  4   \n",
      "2              0.3          2                 4                  4   \n",
      "3              0.3          2                 4                  4   \n",
      "4              0.3          2                 4                  6   \n",
      "..             ...        ...               ...                ...   \n",
      "427            0.7         10                10                  6   \n",
      "428            0.7         10                10                 10   \n",
      "429            0.7         10                10                 10   \n",
      "430            0.7         10                10                 10   \n",
      "431            0.7         10                10                 10   \n",
      "\n",
      "     n_estimators  Accuracy  \n",
      "0              20  0.756593  \n",
      "1              40  0.764671  \n",
      "2              70  0.769864  \n",
      "3              90  0.771597  \n",
      "4              20  0.756593  \n",
      "..            ...       ...  \n",
      "427            90  0.819123  \n",
      "428            20  0.799883  \n",
      "429            40  0.809502  \n",
      "430            70  0.813538  \n",
      "431            90  0.821426  \n",
      "\n",
      "[432 rows x 6 columns]\n",
      "-------------------------------------------\n",
      "Best parameter setting with test size=0.20:  {'learning_rate': 0.5, 'max_depth': 10, 'min_samples_leaf': 4, 'min_samples_split': 10, 'n_estimators': 90}\n",
      "Best accuracy score with test size=0.20:  0.8268174744330814\n",
      "--------------------------------------------------------------------------------------\n"
     ]
    },
    {
     "data": {
      "text/plain": [
       "' GBClf_33=GridSearchCV(GB_model,param_grid=gb_grid,cv=10)\\nGBClf_33.fit(X_train_33,y_train_33)\\nprint(\"GB Model working with test size=0.33\")\\nprint(\"-------------------------------------------\")\\nparams_combine_GB_33=pd.concat([pd.DataFrame(GBClf_33.cv_results_[\"params\"]),pd.DataFrame(GBClf_33.cv_results_[\"mean_test_score\"], columns=[\"Accuracy\"])],axis=1)\\nprint(params_combine_GB_33)\\nprint(\"-------------------------------------------\")\\nprint(\"Best parameter setting with test size=0.33: \",GBClf_33.best_params_)\\nprint(\"Best accuracy score with test size=0.33: \",GBClf_33.best_score_)\\nprint(\"--------------------------------------------------------------------------------------\") '"
      ]
     },
     "execution_count": 4,
     "metadata": {},
     "output_type": "execute_result"
    }
   ],
   "source": [
    "#Gradient Boosting\n",
    "# Since GB was taking a lot of time to compute. \n",
    "# I ran each of the test-sizes separately so as to reduce the computation time.\n",
    "GB_model=GradientBoostingClassifier()\n",
    "learning_rate=[0.3,0.5,0.7]\n",
    "n_estimators=[20,40,70,90]  \n",
    "max_depth=[2,4,6,10]\n",
    "min_samples_split=[4,6,10]\n",
    "min_samples_leaf=[4,6,10]\n",
    "gb_grid=dict(learning_rate=learning_rate,n_estimators=n_estimators,max_depth=max_depth,min_samples_split=min_samples_split,min_samples_leaf=min_samples_leaf)\n",
    "GBClf_20=GridSearchCV(GB_model,param_grid=gb_grid,cv=10)\n",
    "GBClf_20.fit(X_train_20,y_train_20)\n",
    "print(\"GB Model working with test size=0.20\")\n",
    "print(\"-------------------------------------------\")\n",
    "params_combine_GB_20=pd.concat([pd.DataFrame(GBClf_20.cv_results_[\"params\"]),pd.DataFrame(GBClf_20.cv_results_[\"mean_test_score\"], columns=[\"Accuracy\"])],axis=1)\n",
    "print(params_combine_GB_20)\n",
    "print(\"-------------------------------------------\")\n",
    "print(\"Best parameter setting with test size=0.20: \",GBClf_20.best_params_)\n",
    "print(\"Best accuracy score with test size=0.20: \",GBClf_20.best_score_)\n",
    "print(\"--------------------------------------------------------------------------------------\") \n",
    "'''GBClf_25=GridSearchCV(GB_model,param_grid=gb_grid,cv=10)\n",
    "GBClf_25.fit(X_train,y_train)\n",
    "print(\"GB Model working with test size=0.25:\")\n",
    "print(\"-------------------------------------------\")\n",
    "params_combine_GB_25=pd.concat([pd.DataFrame(GBClf_25.cv_results_[\"params\"]),pd.DataFrame(GBClf_25.cv_results_[\"mean_test_score\"], columns=[\"Accuracy\"])],axis=1)\n",
    "print(params_combine_GB_25)\n",
    "print(\"-------------------------------------------\")\n",
    "print(\"Best parameter setting with test size=0.25: \",GBClf_25.best_params_)\n",
    "print(\"Best accuracy score with test size=0.25: \",GBClf_25.best_score_)\n",
    "print(\"--------------------------------------------------------------------------------------\") '''\n",
    "''' GBClf_33=GridSearchCV(GB_model,param_grid=gb_grid,cv=10)\n",
    "GBClf_33.fit(X_train_33,y_train_33)\n",
    "print(\"GB Model working with test size=0.33\")\n",
    "print(\"-------------------------------------------\")\n",
    "params_combine_GB_33=pd.concat([pd.DataFrame(GBClf_33.cv_results_[\"params\"]),pd.DataFrame(GBClf_33.cv_results_[\"mean_test_score\"], columns=[\"Accuracy\"])],axis=1)\n",
    "print(params_combine_GB_33)\n",
    "print(\"-------------------------------------------\")\n",
    "print(\"Best parameter setting with test size=0.33: \",GBClf_33.best_params_)\n",
    "print(\"Best accuracy score with test size=0.33: \",GBClf_33.best_score_)\n",
    "print(\"--------------------------------------------------------------------------------------\") '''"
   ]
  },
  {
   "cell_type": "code",
   "execution_count": 5,
   "id": "2feff81d",
   "metadata": {},
   "outputs": [
    {
     "name": "stdout",
     "output_type": "stream",
     "text": [
      "Best GB Model working with test size=0.20\n",
      "------------------------------------------------------------------\n",
      "Confusion matrix for GB with the best parameter settings with test size=0.20\n"
     ]
    },
    {
     "data": {
      "image/png": "[encoded data removed]",
      "text/plain": [
       "<Figure size 800x550 with 2 Axes>"
      ]
     },
     "metadata": {},
     "output_type": "display_data"
    },
    {
     "name": "stdout",
     "output_type": "stream",
     "text": [
      "------------------------------------------------------------------\n",
      "Classification Report for GB model with Test with test size=0.20\n",
      "              precision    recall  f1-score   support\n",
      "\n",
      "           0       0.77      0.75      0.76       467\n",
      "           1       0.86      0.87      0.87       833\n",
      "\n",
      "    accuracy                           0.83      1300\n",
      "   macro avg       0.81      0.81      0.81      1300\n",
      "weighted avg       0.83      0.83      0.83      1300\n",
      "\n",
      "------------------------------------------------------------------\n",
      "Classification Report for GB model with Train with test size=0.20\n",
      "              precision    recall  f1-score   support\n",
      "\n",
      "           0       1.00      1.00      1.00      1917\n",
      "           1       1.00      1.00      1.00      3280\n",
      "\n",
      "    accuracy                           1.00      5197\n",
      "   macro avg       1.00      1.00      1.00      5197\n",
      "weighted avg       1.00      1.00      1.00      5197\n",
      "\n",
      "--------------------------------------------------------------------------------------\n"
     ]
    },
    {
     "data": {
      "text/plain": [
       "'best_gb_33=GradientBoostingClassifier(learning_rate=0.3,max_depth=4,min_samples_leaf=2,min_samples_split=2,n_estimators=70)\\ngb_33=best_gb_33.fit(X_train_33,y_train_33)\\nprint(\"Best GB Model working with test size=0.33\")\\nprint(\"------------------------------------------------------------------\")\\nprint(\"Confusion matrix for GB with the best parameter settings with test size=0.33\")\\nconfuse_mat(gb_33,0.33)\\nprint(\"------------------------------------------------------------------\")\\nprint(\"Classification Report for GB model with Test with test size=0.33\")\\nreport=test_report(gb_33,0.33)\\nprint(report)\\nprint(\"------------------------------------------------------------------\")\\nprint(\"Classification Report for GB model with Train with test size=0.33\")\\ntest_repo=train_report(gb_33,0.33)\\nprint(test_repo)\\nprint(\"--------------------------------------------------------------------------------------\") '"
      ]
     },
     "execution_count": 5,
     "metadata": {},
     "output_type": "execute_result"
    }
   ],
   "source": [
    "best_gb_20=GradientBoostingClassifier(learning_rate=0.3,max_depth=10,min_samples_leaf=10,min_samples_split=4,n_estimators=70)\n",
    "gb_20=best_gb_20.fit(X_train_20,y_train_20)\n",
    "print(\"Best GB Model working with test size=0.20\")\n",
    "print(\"------------------------------------------------------------------\")\n",
    "print(\"Confusion matrix for GB with the best parameter settings with test size=0.20\")\n",
    "confuse_mat(gb_20,0.20)\n",
    "print(\"------------------------------------------------------------------\")\n",
    "print(\"Classification Report for GB model with Test with test size=0.20\")\n",
    "report=test_report(gb_20,0.20)\n",
    "print(report)\n",
    "print(\"------------------------------------------------------------------\")\n",
    "print(\"Classification Report for GB model with Train with test size=0.20\")\n",
    "test_repo=train_report(gb_20,0.20)\n",
    "print(test_repo)\n",
    "print(\"--------------------------------------------------------------------------------------\") \n",
    "'''\n",
    "best_gb_25=GradientBoostingClassifier(learning_rate=0.3,max_depth=10,min_samples_leaf=10,min_samples_split=4,n_estimators=70)\n",
    "gb_25=best_gb_25.fit(X_train,y_train)\n",
    "print(\"Best GB Model working with test size=0.25\")\n",
    "print(\"------------------------------------------------------------------\")\n",
    "print(\"Confusion matrix for GB with the best parameter settings with test size=0.25\")\n",
    "confuse_mat(gb_25,0.25)\n",
    "print(\"------------------------------------------------------------------\")\n",
    "print(\"Classification Report for GB model with Test with test size=0.25\")\n",
    "report=test_report(gb_25,0.25)\n",
    "print(report)\n",
    "print(\"------------------------------------------------------------------\")\n",
    "print(\"Classification Report for GB model with Train with test size=0.25\")\n",
    "test_repo=train_report(gb_25,0.25)\n",
    "print(test_repo)\n",
    "print(\"--------------------------------------------------------------------------------------\") '''\n",
    "'''best_gb_33=GradientBoostingClassifier(learning_rate=0.3,max_depth=4,min_samples_leaf=2,min_samples_split=2,n_estimators=70)\n",
    "gb_33=best_gb_33.fit(X_train_33,y_train_33)\n",
    "print(\"Best GB Model working with test size=0.33\")\n",
    "print(\"------------------------------------------------------------------\")\n",
    "print(\"Confusion matrix for GB with the best parameter settings with test size=0.33\")\n",
    "confuse_mat(gb_33,0.33)\n",
    "print(\"------------------------------------------------------------------\")\n",
    "print(\"Classification Report for GB model with Test with test size=0.33\")\n",
    "report=test_report(gb_33,0.33)\n",
    "print(report)\n",
    "print(\"------------------------------------------------------------------\")\n",
    "print(\"Classification Report for GB model with Train with test size=0.33\")\n",
    "test_repo=train_report(gb_33,0.33)\n",
    "print(test_repo)\n",
    "print(\"--------------------------------------------------------------------------------------\") '''\n",
    "\n"
   ]
  },
  {
   "cell_type": "code",
   "execution_count": 6,
   "id": "27564959",
   "metadata": {},
   "outputs": [
    {
     "name": "stdout",
     "output_type": "stream",
     "text": [
      "With test_size=0.20 for  Gradient Boosting  Recall: 0.8094359799594355\n",
      "With test_size=0.20 for  Gradient Boosting  f1 score: 0.8110307641915896\n",
      "With test_size=0.20 for  Gradient Boosting  precision: 0.8127702253263491\n"
     ]
    }
   ],
   "source": [
    "f_p_r(gb_20,0.20,\"Gradient Boosting\")"
   ]
  },
  {
   "cell_type": "code",
   "execution_count": 7,
   "id": "62e166c8",
   "metadata": {},
   "outputs": [
    {
     "name": "stdout",
     "output_type": "stream",
     "text": [
      "ROC curve and AUC score for test_size=0.20\n"
     ]
    },
    {
     "data": {
      "image/png": "[encoded data removed]",
      "text/plain": [
       "<Figure size 800x550 with 1 Axes>"
      ]
     },
     "metadata": {},
     "output_type": "display_data"
    },
    {
     "name": "stdout",
     "output_type": "stream",
     "text": [
      "No Skill: ROC AUC=0.500\n",
      "Gradient Boosting : ROC AUC=0.883\n"
     ]
    }
   ],
   "source": [
    "print(\"ROC curve and AUC score for test_size=0.20\")\n",
    "roc_auc(gb_20,\"Gradient Boosting\",0.20)"
   ]
  },
  {
   "cell_type": "code",
   "execution_count": null,
   "id": "a1757176",
   "metadata": {},
   "outputs": [],
   "source": []
  }
 ],
 "metadata": {
  "kernelspec": {
   "display_name": "Python 3 (ipykernel)",
   "language": "python",
   "name": "python3"
  },
  "language_info": {
   "codemirror_mode": {
    "name": "ipython",
    "version": 3
   },
   "file_extension": ".py",
   "mimetype": "text/x-python",
   "name": "python",
   "nbconvert_exporter": "python",
   "pygments_lexer": "ipython3",
   "version": "3.9.13"
  }
 },
 "nbformat": 4,
 "nbformat_minor": 5
}
